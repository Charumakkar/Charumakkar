{
 "cells": [
  {
   "cell_type": "code",
   "execution_count": 1,
   "id": "c3256277",
   "metadata": {},
   "outputs": [],
   "source": [
    "import pandas as pd\n",
    "from sklearn.model_selection import train_test_split"
   ]
  },
  {
   "cell_type": "code",
   "execution_count": 2,
   "id": "fb207c6b",
   "metadata": {},
   "outputs": [],
   "source": [
    "df = pd.read_csv(\"C:\\\\Users\\\\Anish\\\\Downloads\\\\Final.xls\")"
   ]
  },
  {
   "cell_type": "code",
   "execution_count": 3,
   "id": "fc0fa84d",
   "metadata": {},
   "outputs": [
    {
     "data": {
      "text/html": [
       "<div>\n",
       "<style scoped>\n",
       "    .dataframe tbody tr th:only-of-type {\n",
       "        vertical-align: middle;\n",
       "    }\n",
       "\n",
       "    .dataframe tbody tr th {\n",
       "        vertical-align: top;\n",
       "    }\n",
       "\n",
       "    .dataframe thead th {\n",
       "        text-align: right;\n",
       "    }\n",
       "</style>\n",
       "<table border=\"1\" class=\"dataframe\">\n",
       "  <thead>\n",
       "    <tr style=\"text-align: right;\">\n",
       "      <th></th>\n",
       "      <th>Conditions</th>\n",
       "      <th>Dew Point</th>\n",
       "      <th>Humidity</th>\n",
       "      <th>Pressure</th>\n",
       "      <th>Temp</th>\n",
       "      <th>Wind (Angles)</th>\n",
       "      <th>Wind Speed (In Knots)</th>\n",
       "      <th>Avg. rainfall</th>\n",
       "      <th>date</th>\n",
       "      <th>time</th>\n",
       "      <th>year</th>\n",
       "      <th>month</th>\n",
       "      <th>day</th>\n",
       "    </tr>\n",
       "  </thead>\n",
       "  <tbody>\n",
       "    <tr>\n",
       "      <th>0</th>\n",
       "      <td>30</td>\n",
       "      <td>9.0</td>\n",
       "      <td>27.0</td>\n",
       "      <td>1010.0</td>\n",
       "      <td>30.0</td>\n",
       "      <td>280.000000</td>\n",
       "      <td>7.400000</td>\n",
       "      <td>0.0</td>\n",
       "      <td>19961101</td>\n",
       "      <td>11:00</td>\n",
       "      <td>1996</td>\n",
       "      <td>11</td>\n",
       "      <td>1</td>\n",
       "    </tr>\n",
       "    <tr>\n",
       "      <th>1</th>\n",
       "      <td>30</td>\n",
       "      <td>10.0</td>\n",
       "      <td>32.0</td>\n",
       "      <td>1000.0</td>\n",
       "      <td>28.0</td>\n",
       "      <td>0.000000</td>\n",
       "      <td>5.168269</td>\n",
       "      <td>0.0</td>\n",
       "      <td>19961101</td>\n",
       "      <td>12:00</td>\n",
       "      <td>1996</td>\n",
       "      <td>11</td>\n",
       "      <td>1</td>\n",
       "    </tr>\n",
       "    <tr>\n",
       "      <th>2</th>\n",
       "      <td>30</td>\n",
       "      <td>11.0</td>\n",
       "      <td>44.0</td>\n",
       "      <td>1000.0</td>\n",
       "      <td>24.0</td>\n",
       "      <td>0.000000</td>\n",
       "      <td>5.168269</td>\n",
       "      <td>0.0</td>\n",
       "      <td>19961101</td>\n",
       "      <td>13:00</td>\n",
       "      <td>1996</td>\n",
       "      <td>11</td>\n",
       "      <td>1</td>\n",
       "    </tr>\n",
       "    <tr>\n",
       "      <th>3</th>\n",
       "      <td>30</td>\n",
       "      <td>10.0</td>\n",
       "      <td>41.0</td>\n",
       "      <td>1010.0</td>\n",
       "      <td>24.0</td>\n",
       "      <td>0.000000</td>\n",
       "      <td>5.168269</td>\n",
       "      <td>0.0</td>\n",
       "      <td>19961101</td>\n",
       "      <td>14:00</td>\n",
       "      <td>1996</td>\n",
       "      <td>11</td>\n",
       "      <td>1</td>\n",
       "    </tr>\n",
       "    <tr>\n",
       "      <th>4</th>\n",
       "      <td>30</td>\n",
       "      <td>11.0</td>\n",
       "      <td>47.0</td>\n",
       "      <td>1011.0</td>\n",
       "      <td>23.0</td>\n",
       "      <td>0.000000</td>\n",
       "      <td>0.000000</td>\n",
       "      <td>0.0</td>\n",
       "      <td>19961101</td>\n",
       "      <td>16:00</td>\n",
       "      <td>1996</td>\n",
       "      <td>11</td>\n",
       "      <td>1</td>\n",
       "    </tr>\n",
       "    <tr>\n",
       "      <th>...</th>\n",
       "      <td>...</td>\n",
       "      <td>...</td>\n",
       "      <td>...</td>\n",
       "      <td>...</td>\n",
       "      <td>...</td>\n",
       "      <td>...</td>\n",
       "      <td>...</td>\n",
       "      <td>...</td>\n",
       "      <td>...</td>\n",
       "      <td>...</td>\n",
       "      <td>...</td>\n",
       "      <td>...</td>\n",
       "      <td>...</td>\n",
       "    </tr>\n",
       "    <tr>\n",
       "      <th>92931</th>\n",
       "      <td>30</td>\n",
       "      <td>9.0</td>\n",
       "      <td>25.0</td>\n",
       "      <td>1019.0</td>\n",
       "      <td>25.0</td>\n",
       "      <td>290.000000</td>\n",
       "      <td>5.600000</td>\n",
       "      <td>0.2</td>\n",
       "      <td>20151231</td>\n",
       "      <td>09:00</td>\n",
       "      <td>2015</td>\n",
       "      <td>12</td>\n",
       "      <td>31</td>\n",
       "    </tr>\n",
       "    <tr>\n",
       "      <th>92932</th>\n",
       "      <td>30</td>\n",
       "      <td>11.0</td>\n",
       "      <td>45.0</td>\n",
       "      <td>1019.0</td>\n",
       "      <td>21.0</td>\n",
       "      <td>290.000000</td>\n",
       "      <td>3.700000</td>\n",
       "      <td>0.2</td>\n",
       "      <td>20151231</td>\n",
       "      <td>12:00</td>\n",
       "      <td>2015</td>\n",
       "      <td>12</td>\n",
       "      <td>31</td>\n",
       "    </tr>\n",
       "    <tr>\n",
       "      <th>92933</th>\n",
       "      <td>20</td>\n",
       "      <td>10.0</td>\n",
       "      <td>75.0</td>\n",
       "      <td>1021.0</td>\n",
       "      <td>13.0</td>\n",
       "      <td>253.214286</td>\n",
       "      <td>0.000000</td>\n",
       "      <td>0.2</td>\n",
       "      <td>20151231</td>\n",
       "      <td>15:00</td>\n",
       "      <td>2015</td>\n",
       "      <td>12</td>\n",
       "      <td>31</td>\n",
       "    </tr>\n",
       "    <tr>\n",
       "      <th>92934</th>\n",
       "      <td>20</td>\n",
       "      <td>10.0</td>\n",
       "      <td>86.0</td>\n",
       "      <td>1021.0</td>\n",
       "      <td>12.0</td>\n",
       "      <td>253.214286</td>\n",
       "      <td>0.000000</td>\n",
       "      <td>0.2</td>\n",
       "      <td>20151231</td>\n",
       "      <td>18:00</td>\n",
       "      <td>2015</td>\n",
       "      <td>12</td>\n",
       "      <td>31</td>\n",
       "    </tr>\n",
       "    <tr>\n",
       "      <th>92935</th>\n",
       "      <td>20</td>\n",
       "      <td>9.0</td>\n",
       "      <td>100.0</td>\n",
       "      <td>1020.0</td>\n",
       "      <td>9.0</td>\n",
       "      <td>253.214286</td>\n",
       "      <td>0.000000</td>\n",
       "      <td>0.2</td>\n",
       "      <td>20151231</td>\n",
       "      <td>21:00</td>\n",
       "      <td>2015</td>\n",
       "      <td>12</td>\n",
       "      <td>31</td>\n",
       "    </tr>\n",
       "  </tbody>\n",
       "</table>\n",
       "<p>92936 rows × 13 columns</p>\n",
       "</div>"
      ],
      "text/plain": [
       "        Conditions  Dew Point   Humidity  Pressure  Temp  Wind (Angles)  \\\n",
       "0               30        9.0       27.0    1010.0  30.0     280.000000   \n",
       "1               30       10.0       32.0    1000.0  28.0       0.000000   \n",
       "2               30       11.0       44.0    1000.0  24.0       0.000000   \n",
       "3               30       10.0       41.0    1010.0  24.0       0.000000   \n",
       "4               30       11.0       47.0    1011.0  23.0       0.000000   \n",
       "...            ...        ...        ...       ...   ...            ...   \n",
       "92931           30        9.0       25.0    1019.0  25.0     290.000000   \n",
       "92932           30       11.0       45.0    1019.0  21.0     290.000000   \n",
       "92933           20       10.0       75.0    1021.0  13.0     253.214286   \n",
       "92934           20       10.0       86.0    1021.0  12.0     253.214286   \n",
       "92935           20        9.0      100.0    1020.0   9.0     253.214286   \n",
       "\n",
       "       Wind Speed (In Knots)  Avg. rainfall      date   time  year  month  day  \n",
       "0                   7.400000            0.0  19961101  11:00  1996     11    1  \n",
       "1                   5.168269            0.0  19961101  12:00  1996     11    1  \n",
       "2                   5.168269            0.0  19961101  13:00  1996     11    1  \n",
       "3                   5.168269            0.0  19961101  14:00  1996     11    1  \n",
       "4                   0.000000            0.0  19961101  16:00  1996     11    1  \n",
       "...                      ...            ...       ...    ...   ...    ...  ...  \n",
       "92931               5.600000            0.2  20151231  09:00  2015     12   31  \n",
       "92932               3.700000            0.2  20151231  12:00  2015     12   31  \n",
       "92933               0.000000            0.2  20151231  15:00  2015     12   31  \n",
       "92934               0.000000            0.2  20151231  18:00  2015     12   31  \n",
       "92935               0.000000            0.2  20151231  21:00  2015     12   31  \n",
       "\n",
       "[92936 rows x 13 columns]"
      ]
     },
     "execution_count": 3,
     "metadata": {},
     "output_type": "execute_result"
    }
   ],
   "source": [
    "df"
   ]
  },
  {
   "cell_type": "code",
   "execution_count": 4,
   "id": "8d882698",
   "metadata": {},
   "outputs": [
    {
     "data": {
      "text/plain": [
       "39"
      ]
     },
     "execution_count": 4,
     "metadata": {},
     "output_type": "execute_result"
    }
   ],
   "source": [
    "df[' Conditions'].nunique()"
   ]
  },
  {
   "cell_type": "markdown",
   "id": "8680209a",
   "metadata": {},
   "source": [
    "# Regression Model"
   ]
  },
  {
   "cell_type": "code",
   "execution_count": 5,
   "id": "1ce66dbc",
   "metadata": {},
   "outputs": [],
   "source": [
    "ad=df.drop(columns=['date','time'])"
   ]
  },
  {
   "cell_type": "code",
   "execution_count": 6,
   "id": "f407a43a",
   "metadata": {},
   "outputs": [
    {
     "data": {
      "text/html": [
       "<div>\n",
       "<style scoped>\n",
       "    .dataframe tbody tr th:only-of-type {\n",
       "        vertical-align: middle;\n",
       "    }\n",
       "\n",
       "    .dataframe tbody tr th {\n",
       "        vertical-align: top;\n",
       "    }\n",
       "\n",
       "    .dataframe thead th {\n",
       "        text-align: right;\n",
       "    }\n",
       "</style>\n",
       "<table border=\"1\" class=\"dataframe\">\n",
       "  <thead>\n",
       "    <tr style=\"text-align: right;\">\n",
       "      <th></th>\n",
       "      <th>Conditions</th>\n",
       "      <th>Dew Point</th>\n",
       "      <th>Humidity</th>\n",
       "      <th>Pressure</th>\n",
       "      <th>Temp</th>\n",
       "      <th>Wind (Angles)</th>\n",
       "      <th>Wind Speed (In Knots)</th>\n",
       "      <th>Avg. rainfall</th>\n",
       "      <th>year</th>\n",
       "      <th>month</th>\n",
       "      <th>day</th>\n",
       "    </tr>\n",
       "  </thead>\n",
       "  <tbody>\n",
       "    <tr>\n",
       "      <th>0</th>\n",
       "      <td>30</td>\n",
       "      <td>9.0</td>\n",
       "      <td>27.0</td>\n",
       "      <td>1010.0</td>\n",
       "      <td>30.0</td>\n",
       "      <td>280.000000</td>\n",
       "      <td>7.400000</td>\n",
       "      <td>0.0</td>\n",
       "      <td>1996</td>\n",
       "      <td>11</td>\n",
       "      <td>1</td>\n",
       "    </tr>\n",
       "    <tr>\n",
       "      <th>1</th>\n",
       "      <td>30</td>\n",
       "      <td>10.0</td>\n",
       "      <td>32.0</td>\n",
       "      <td>1000.0</td>\n",
       "      <td>28.0</td>\n",
       "      <td>0.000000</td>\n",
       "      <td>5.168269</td>\n",
       "      <td>0.0</td>\n",
       "      <td>1996</td>\n",
       "      <td>11</td>\n",
       "      <td>1</td>\n",
       "    </tr>\n",
       "    <tr>\n",
       "      <th>2</th>\n",
       "      <td>30</td>\n",
       "      <td>11.0</td>\n",
       "      <td>44.0</td>\n",
       "      <td>1000.0</td>\n",
       "      <td>24.0</td>\n",
       "      <td>0.000000</td>\n",
       "      <td>5.168269</td>\n",
       "      <td>0.0</td>\n",
       "      <td>1996</td>\n",
       "      <td>11</td>\n",
       "      <td>1</td>\n",
       "    </tr>\n",
       "    <tr>\n",
       "      <th>3</th>\n",
       "      <td>30</td>\n",
       "      <td>10.0</td>\n",
       "      <td>41.0</td>\n",
       "      <td>1010.0</td>\n",
       "      <td>24.0</td>\n",
       "      <td>0.000000</td>\n",
       "      <td>5.168269</td>\n",
       "      <td>0.0</td>\n",
       "      <td>1996</td>\n",
       "      <td>11</td>\n",
       "      <td>1</td>\n",
       "    </tr>\n",
       "    <tr>\n",
       "      <th>4</th>\n",
       "      <td>30</td>\n",
       "      <td>11.0</td>\n",
       "      <td>47.0</td>\n",
       "      <td>1011.0</td>\n",
       "      <td>23.0</td>\n",
       "      <td>0.000000</td>\n",
       "      <td>0.000000</td>\n",
       "      <td>0.0</td>\n",
       "      <td>1996</td>\n",
       "      <td>11</td>\n",
       "      <td>1</td>\n",
       "    </tr>\n",
       "    <tr>\n",
       "      <th>...</th>\n",
       "      <td>...</td>\n",
       "      <td>...</td>\n",
       "      <td>...</td>\n",
       "      <td>...</td>\n",
       "      <td>...</td>\n",
       "      <td>...</td>\n",
       "      <td>...</td>\n",
       "      <td>...</td>\n",
       "      <td>...</td>\n",
       "      <td>...</td>\n",
       "      <td>...</td>\n",
       "    </tr>\n",
       "    <tr>\n",
       "      <th>92931</th>\n",
       "      <td>30</td>\n",
       "      <td>9.0</td>\n",
       "      <td>25.0</td>\n",
       "      <td>1019.0</td>\n",
       "      <td>25.0</td>\n",
       "      <td>290.000000</td>\n",
       "      <td>5.600000</td>\n",
       "      <td>0.2</td>\n",
       "      <td>2015</td>\n",
       "      <td>12</td>\n",
       "      <td>31</td>\n",
       "    </tr>\n",
       "    <tr>\n",
       "      <th>92932</th>\n",
       "      <td>30</td>\n",
       "      <td>11.0</td>\n",
       "      <td>45.0</td>\n",
       "      <td>1019.0</td>\n",
       "      <td>21.0</td>\n",
       "      <td>290.000000</td>\n",
       "      <td>3.700000</td>\n",
       "      <td>0.2</td>\n",
       "      <td>2015</td>\n",
       "      <td>12</td>\n",
       "      <td>31</td>\n",
       "    </tr>\n",
       "    <tr>\n",
       "      <th>92933</th>\n",
       "      <td>20</td>\n",
       "      <td>10.0</td>\n",
       "      <td>75.0</td>\n",
       "      <td>1021.0</td>\n",
       "      <td>13.0</td>\n",
       "      <td>253.214286</td>\n",
       "      <td>0.000000</td>\n",
       "      <td>0.2</td>\n",
       "      <td>2015</td>\n",
       "      <td>12</td>\n",
       "      <td>31</td>\n",
       "    </tr>\n",
       "    <tr>\n",
       "      <th>92934</th>\n",
       "      <td>20</td>\n",
       "      <td>10.0</td>\n",
       "      <td>86.0</td>\n",
       "      <td>1021.0</td>\n",
       "      <td>12.0</td>\n",
       "      <td>253.214286</td>\n",
       "      <td>0.000000</td>\n",
       "      <td>0.2</td>\n",
       "      <td>2015</td>\n",
       "      <td>12</td>\n",
       "      <td>31</td>\n",
       "    </tr>\n",
       "    <tr>\n",
       "      <th>92935</th>\n",
       "      <td>20</td>\n",
       "      <td>9.0</td>\n",
       "      <td>100.0</td>\n",
       "      <td>1020.0</td>\n",
       "      <td>9.0</td>\n",
       "      <td>253.214286</td>\n",
       "      <td>0.000000</td>\n",
       "      <td>0.2</td>\n",
       "      <td>2015</td>\n",
       "      <td>12</td>\n",
       "      <td>31</td>\n",
       "    </tr>\n",
       "  </tbody>\n",
       "</table>\n",
       "<p>92936 rows × 11 columns</p>\n",
       "</div>"
      ],
      "text/plain": [
       "        Conditions  Dew Point   Humidity  Pressure  Temp  Wind (Angles)  \\\n",
       "0               30        9.0       27.0    1010.0  30.0     280.000000   \n",
       "1               30       10.0       32.0    1000.0  28.0       0.000000   \n",
       "2               30       11.0       44.0    1000.0  24.0       0.000000   \n",
       "3               30       10.0       41.0    1010.0  24.0       0.000000   \n",
       "4               30       11.0       47.0    1011.0  23.0       0.000000   \n",
       "...            ...        ...        ...       ...   ...            ...   \n",
       "92931           30        9.0       25.0    1019.0  25.0     290.000000   \n",
       "92932           30       11.0       45.0    1019.0  21.0     290.000000   \n",
       "92933           20       10.0       75.0    1021.0  13.0     253.214286   \n",
       "92934           20       10.0       86.0    1021.0  12.0     253.214286   \n",
       "92935           20        9.0      100.0    1020.0   9.0     253.214286   \n",
       "\n",
       "       Wind Speed (In Knots)  Avg. rainfall  year  month  day  \n",
       "0                   7.400000            0.0  1996     11    1  \n",
       "1                   5.168269            0.0  1996     11    1  \n",
       "2                   5.168269            0.0  1996     11    1  \n",
       "3                   5.168269            0.0  1996     11    1  \n",
       "4                   0.000000            0.0  1996     11    1  \n",
       "...                      ...            ...   ...    ...  ...  \n",
       "92931               5.600000            0.2  2015     12   31  \n",
       "92932               3.700000            0.2  2015     12   31  \n",
       "92933               0.000000            0.2  2015     12   31  \n",
       "92934               0.000000            0.2  2015     12   31  \n",
       "92935               0.000000            0.2  2015     12   31  \n",
       "\n",
       "[92936 rows x 11 columns]"
      ]
     },
     "execution_count": 6,
     "metadata": {},
     "output_type": "execute_result"
    }
   ],
   "source": [
    "ad"
   ]
  },
  {
   "cell_type": "code",
   "execution_count": 7,
   "id": "7a036075",
   "metadata": {},
   "outputs": [],
   "source": [
    "X=df.drop(columns = 'Avg. rainfall')"
   ]
  },
  {
   "cell_type": "code",
   "execution_count": 8,
   "id": "401f698d",
   "metadata": {},
   "outputs": [
    {
     "data": {
      "text/html": [
       "<div>\n",
       "<style scoped>\n",
       "    .dataframe tbody tr th:only-of-type {\n",
       "        vertical-align: middle;\n",
       "    }\n",
       "\n",
       "    .dataframe tbody tr th {\n",
       "        vertical-align: top;\n",
       "    }\n",
       "\n",
       "    .dataframe thead th {\n",
       "        text-align: right;\n",
       "    }\n",
       "</style>\n",
       "<table border=\"1\" class=\"dataframe\">\n",
       "  <thead>\n",
       "    <tr style=\"text-align: right;\">\n",
       "      <th></th>\n",
       "      <th>Conditions</th>\n",
       "      <th>Dew Point</th>\n",
       "      <th>Humidity</th>\n",
       "      <th>Pressure</th>\n",
       "      <th>Temp</th>\n",
       "      <th>Wind (Angles)</th>\n",
       "      <th>Wind Speed (In Knots)</th>\n",
       "      <th>date</th>\n",
       "      <th>time</th>\n",
       "      <th>year</th>\n",
       "      <th>month</th>\n",
       "      <th>day</th>\n",
       "    </tr>\n",
       "  </thead>\n",
       "  <tbody>\n",
       "    <tr>\n",
       "      <th>0</th>\n",
       "      <td>30</td>\n",
       "      <td>9.0</td>\n",
       "      <td>27.0</td>\n",
       "      <td>1010.0</td>\n",
       "      <td>30.0</td>\n",
       "      <td>280.000000</td>\n",
       "      <td>7.400000</td>\n",
       "      <td>19961101</td>\n",
       "      <td>11:00</td>\n",
       "      <td>1996</td>\n",
       "      <td>11</td>\n",
       "      <td>1</td>\n",
       "    </tr>\n",
       "    <tr>\n",
       "      <th>1</th>\n",
       "      <td>30</td>\n",
       "      <td>10.0</td>\n",
       "      <td>32.0</td>\n",
       "      <td>1000.0</td>\n",
       "      <td>28.0</td>\n",
       "      <td>0.000000</td>\n",
       "      <td>5.168269</td>\n",
       "      <td>19961101</td>\n",
       "      <td>12:00</td>\n",
       "      <td>1996</td>\n",
       "      <td>11</td>\n",
       "      <td>1</td>\n",
       "    </tr>\n",
       "    <tr>\n",
       "      <th>2</th>\n",
       "      <td>30</td>\n",
       "      <td>11.0</td>\n",
       "      <td>44.0</td>\n",
       "      <td>1000.0</td>\n",
       "      <td>24.0</td>\n",
       "      <td>0.000000</td>\n",
       "      <td>5.168269</td>\n",
       "      <td>19961101</td>\n",
       "      <td>13:00</td>\n",
       "      <td>1996</td>\n",
       "      <td>11</td>\n",
       "      <td>1</td>\n",
       "    </tr>\n",
       "    <tr>\n",
       "      <th>3</th>\n",
       "      <td>30</td>\n",
       "      <td>10.0</td>\n",
       "      <td>41.0</td>\n",
       "      <td>1010.0</td>\n",
       "      <td>24.0</td>\n",
       "      <td>0.000000</td>\n",
       "      <td>5.168269</td>\n",
       "      <td>19961101</td>\n",
       "      <td>14:00</td>\n",
       "      <td>1996</td>\n",
       "      <td>11</td>\n",
       "      <td>1</td>\n",
       "    </tr>\n",
       "    <tr>\n",
       "      <th>4</th>\n",
       "      <td>30</td>\n",
       "      <td>11.0</td>\n",
       "      <td>47.0</td>\n",
       "      <td>1011.0</td>\n",
       "      <td>23.0</td>\n",
       "      <td>0.000000</td>\n",
       "      <td>0.000000</td>\n",
       "      <td>19961101</td>\n",
       "      <td>16:00</td>\n",
       "      <td>1996</td>\n",
       "      <td>11</td>\n",
       "      <td>1</td>\n",
       "    </tr>\n",
       "    <tr>\n",
       "      <th>...</th>\n",
       "      <td>...</td>\n",
       "      <td>...</td>\n",
       "      <td>...</td>\n",
       "      <td>...</td>\n",
       "      <td>...</td>\n",
       "      <td>...</td>\n",
       "      <td>...</td>\n",
       "      <td>...</td>\n",
       "      <td>...</td>\n",
       "      <td>...</td>\n",
       "      <td>...</td>\n",
       "      <td>...</td>\n",
       "    </tr>\n",
       "    <tr>\n",
       "      <th>92931</th>\n",
       "      <td>30</td>\n",
       "      <td>9.0</td>\n",
       "      <td>25.0</td>\n",
       "      <td>1019.0</td>\n",
       "      <td>25.0</td>\n",
       "      <td>290.000000</td>\n",
       "      <td>5.600000</td>\n",
       "      <td>20151231</td>\n",
       "      <td>09:00</td>\n",
       "      <td>2015</td>\n",
       "      <td>12</td>\n",
       "      <td>31</td>\n",
       "    </tr>\n",
       "    <tr>\n",
       "      <th>92932</th>\n",
       "      <td>30</td>\n",
       "      <td>11.0</td>\n",
       "      <td>45.0</td>\n",
       "      <td>1019.0</td>\n",
       "      <td>21.0</td>\n",
       "      <td>290.000000</td>\n",
       "      <td>3.700000</td>\n",
       "      <td>20151231</td>\n",
       "      <td>12:00</td>\n",
       "      <td>2015</td>\n",
       "      <td>12</td>\n",
       "      <td>31</td>\n",
       "    </tr>\n",
       "    <tr>\n",
       "      <th>92933</th>\n",
       "      <td>20</td>\n",
       "      <td>10.0</td>\n",
       "      <td>75.0</td>\n",
       "      <td>1021.0</td>\n",
       "      <td>13.0</td>\n",
       "      <td>253.214286</td>\n",
       "      <td>0.000000</td>\n",
       "      <td>20151231</td>\n",
       "      <td>15:00</td>\n",
       "      <td>2015</td>\n",
       "      <td>12</td>\n",
       "      <td>31</td>\n",
       "    </tr>\n",
       "    <tr>\n",
       "      <th>92934</th>\n",
       "      <td>20</td>\n",
       "      <td>10.0</td>\n",
       "      <td>86.0</td>\n",
       "      <td>1021.0</td>\n",
       "      <td>12.0</td>\n",
       "      <td>253.214286</td>\n",
       "      <td>0.000000</td>\n",
       "      <td>20151231</td>\n",
       "      <td>18:00</td>\n",
       "      <td>2015</td>\n",
       "      <td>12</td>\n",
       "      <td>31</td>\n",
       "    </tr>\n",
       "    <tr>\n",
       "      <th>92935</th>\n",
       "      <td>20</td>\n",
       "      <td>9.0</td>\n",
       "      <td>100.0</td>\n",
       "      <td>1020.0</td>\n",
       "      <td>9.0</td>\n",
       "      <td>253.214286</td>\n",
       "      <td>0.000000</td>\n",
       "      <td>20151231</td>\n",
       "      <td>21:00</td>\n",
       "      <td>2015</td>\n",
       "      <td>12</td>\n",
       "      <td>31</td>\n",
       "    </tr>\n",
       "  </tbody>\n",
       "</table>\n",
       "<p>92936 rows × 12 columns</p>\n",
       "</div>"
      ],
      "text/plain": [
       "        Conditions  Dew Point   Humidity  Pressure  Temp  Wind (Angles)  \\\n",
       "0               30        9.0       27.0    1010.0  30.0     280.000000   \n",
       "1               30       10.0       32.0    1000.0  28.0       0.000000   \n",
       "2               30       11.0       44.0    1000.0  24.0       0.000000   \n",
       "3               30       10.0       41.0    1010.0  24.0       0.000000   \n",
       "4               30       11.0       47.0    1011.0  23.0       0.000000   \n",
       "...            ...        ...        ...       ...   ...            ...   \n",
       "92931           30        9.0       25.0    1019.0  25.0     290.000000   \n",
       "92932           30       11.0       45.0    1019.0  21.0     290.000000   \n",
       "92933           20       10.0       75.0    1021.0  13.0     253.214286   \n",
       "92934           20       10.0       86.0    1021.0  12.0     253.214286   \n",
       "92935           20        9.0      100.0    1020.0   9.0     253.214286   \n",
       "\n",
       "       Wind Speed (In Knots)      date   time  year  month  day  \n",
       "0                   7.400000  19961101  11:00  1996     11    1  \n",
       "1                   5.168269  19961101  12:00  1996     11    1  \n",
       "2                   5.168269  19961101  13:00  1996     11    1  \n",
       "3                   5.168269  19961101  14:00  1996     11    1  \n",
       "4                   0.000000  19961101  16:00  1996     11    1  \n",
       "...                      ...       ...    ...   ...    ...  ...  \n",
       "92931               5.600000  20151231  09:00  2015     12   31  \n",
       "92932               3.700000  20151231  12:00  2015     12   31  \n",
       "92933               0.000000  20151231  15:00  2015     12   31  \n",
       "92934               0.000000  20151231  18:00  2015     12   31  \n",
       "92935               0.000000  20151231  21:00  2015     12   31  \n",
       "\n",
       "[92936 rows x 12 columns]"
      ]
     },
     "execution_count": 8,
     "metadata": {},
     "output_type": "execute_result"
    }
   ],
   "source": [
    "X"
   ]
  },
  {
   "cell_type": "code",
   "execution_count": 9,
   "id": "59414633",
   "metadata": {},
   "outputs": [],
   "source": [
    "X2=ad.drop(columns = 'Avg. rainfall')"
   ]
  },
  {
   "cell_type": "code",
   "execution_count": 10,
   "id": "f9b64f4c",
   "metadata": {},
   "outputs": [
    {
     "data": {
      "text/html": [
       "<div>\n",
       "<style scoped>\n",
       "    .dataframe tbody tr th:only-of-type {\n",
       "        vertical-align: middle;\n",
       "    }\n",
       "\n",
       "    .dataframe tbody tr th {\n",
       "        vertical-align: top;\n",
       "    }\n",
       "\n",
       "    .dataframe thead th {\n",
       "        text-align: right;\n",
       "    }\n",
       "</style>\n",
       "<table border=\"1\" class=\"dataframe\">\n",
       "  <thead>\n",
       "    <tr style=\"text-align: right;\">\n",
       "      <th></th>\n",
       "      <th>Conditions</th>\n",
       "      <th>Dew Point</th>\n",
       "      <th>Humidity</th>\n",
       "      <th>Pressure</th>\n",
       "      <th>Temp</th>\n",
       "      <th>Wind (Angles)</th>\n",
       "      <th>Wind Speed (In Knots)</th>\n",
       "      <th>year</th>\n",
       "      <th>month</th>\n",
       "      <th>day</th>\n",
       "    </tr>\n",
       "  </thead>\n",
       "  <tbody>\n",
       "    <tr>\n",
       "      <th>0</th>\n",
       "      <td>30</td>\n",
       "      <td>9.0</td>\n",
       "      <td>27.0</td>\n",
       "      <td>1010.0</td>\n",
       "      <td>30.0</td>\n",
       "      <td>280.000000</td>\n",
       "      <td>7.400000</td>\n",
       "      <td>1996</td>\n",
       "      <td>11</td>\n",
       "      <td>1</td>\n",
       "    </tr>\n",
       "    <tr>\n",
       "      <th>1</th>\n",
       "      <td>30</td>\n",
       "      <td>10.0</td>\n",
       "      <td>32.0</td>\n",
       "      <td>1000.0</td>\n",
       "      <td>28.0</td>\n",
       "      <td>0.000000</td>\n",
       "      <td>5.168269</td>\n",
       "      <td>1996</td>\n",
       "      <td>11</td>\n",
       "      <td>1</td>\n",
       "    </tr>\n",
       "    <tr>\n",
       "      <th>2</th>\n",
       "      <td>30</td>\n",
       "      <td>11.0</td>\n",
       "      <td>44.0</td>\n",
       "      <td>1000.0</td>\n",
       "      <td>24.0</td>\n",
       "      <td>0.000000</td>\n",
       "      <td>5.168269</td>\n",
       "      <td>1996</td>\n",
       "      <td>11</td>\n",
       "      <td>1</td>\n",
       "    </tr>\n",
       "    <tr>\n",
       "      <th>3</th>\n",
       "      <td>30</td>\n",
       "      <td>10.0</td>\n",
       "      <td>41.0</td>\n",
       "      <td>1010.0</td>\n",
       "      <td>24.0</td>\n",
       "      <td>0.000000</td>\n",
       "      <td>5.168269</td>\n",
       "      <td>1996</td>\n",
       "      <td>11</td>\n",
       "      <td>1</td>\n",
       "    </tr>\n",
       "    <tr>\n",
       "      <th>4</th>\n",
       "      <td>30</td>\n",
       "      <td>11.0</td>\n",
       "      <td>47.0</td>\n",
       "      <td>1011.0</td>\n",
       "      <td>23.0</td>\n",
       "      <td>0.000000</td>\n",
       "      <td>0.000000</td>\n",
       "      <td>1996</td>\n",
       "      <td>11</td>\n",
       "      <td>1</td>\n",
       "    </tr>\n",
       "    <tr>\n",
       "      <th>...</th>\n",
       "      <td>...</td>\n",
       "      <td>...</td>\n",
       "      <td>...</td>\n",
       "      <td>...</td>\n",
       "      <td>...</td>\n",
       "      <td>...</td>\n",
       "      <td>...</td>\n",
       "      <td>...</td>\n",
       "      <td>...</td>\n",
       "      <td>...</td>\n",
       "    </tr>\n",
       "    <tr>\n",
       "      <th>92931</th>\n",
       "      <td>30</td>\n",
       "      <td>9.0</td>\n",
       "      <td>25.0</td>\n",
       "      <td>1019.0</td>\n",
       "      <td>25.0</td>\n",
       "      <td>290.000000</td>\n",
       "      <td>5.600000</td>\n",
       "      <td>2015</td>\n",
       "      <td>12</td>\n",
       "      <td>31</td>\n",
       "    </tr>\n",
       "    <tr>\n",
       "      <th>92932</th>\n",
       "      <td>30</td>\n",
       "      <td>11.0</td>\n",
       "      <td>45.0</td>\n",
       "      <td>1019.0</td>\n",
       "      <td>21.0</td>\n",
       "      <td>290.000000</td>\n",
       "      <td>3.700000</td>\n",
       "      <td>2015</td>\n",
       "      <td>12</td>\n",
       "      <td>31</td>\n",
       "    </tr>\n",
       "    <tr>\n",
       "      <th>92933</th>\n",
       "      <td>20</td>\n",
       "      <td>10.0</td>\n",
       "      <td>75.0</td>\n",
       "      <td>1021.0</td>\n",
       "      <td>13.0</td>\n",
       "      <td>253.214286</td>\n",
       "      <td>0.000000</td>\n",
       "      <td>2015</td>\n",
       "      <td>12</td>\n",
       "      <td>31</td>\n",
       "    </tr>\n",
       "    <tr>\n",
       "      <th>92934</th>\n",
       "      <td>20</td>\n",
       "      <td>10.0</td>\n",
       "      <td>86.0</td>\n",
       "      <td>1021.0</td>\n",
       "      <td>12.0</td>\n",
       "      <td>253.214286</td>\n",
       "      <td>0.000000</td>\n",
       "      <td>2015</td>\n",
       "      <td>12</td>\n",
       "      <td>31</td>\n",
       "    </tr>\n",
       "    <tr>\n",
       "      <th>92935</th>\n",
       "      <td>20</td>\n",
       "      <td>9.0</td>\n",
       "      <td>100.0</td>\n",
       "      <td>1020.0</td>\n",
       "      <td>9.0</td>\n",
       "      <td>253.214286</td>\n",
       "      <td>0.000000</td>\n",
       "      <td>2015</td>\n",
       "      <td>12</td>\n",
       "      <td>31</td>\n",
       "    </tr>\n",
       "  </tbody>\n",
       "</table>\n",
       "<p>92936 rows × 10 columns</p>\n",
       "</div>"
      ],
      "text/plain": [
       "        Conditions  Dew Point   Humidity  Pressure  Temp  Wind (Angles)  \\\n",
       "0               30        9.0       27.0    1010.0  30.0     280.000000   \n",
       "1               30       10.0       32.0    1000.0  28.0       0.000000   \n",
       "2               30       11.0       44.0    1000.0  24.0       0.000000   \n",
       "3               30       10.0       41.0    1010.0  24.0       0.000000   \n",
       "4               30       11.0       47.0    1011.0  23.0       0.000000   \n",
       "...            ...        ...        ...       ...   ...            ...   \n",
       "92931           30        9.0       25.0    1019.0  25.0     290.000000   \n",
       "92932           30       11.0       45.0    1019.0  21.0     290.000000   \n",
       "92933           20       10.0       75.0    1021.0  13.0     253.214286   \n",
       "92934           20       10.0       86.0    1021.0  12.0     253.214286   \n",
       "92935           20        9.0      100.0    1020.0   9.0     253.214286   \n",
       "\n",
       "       Wind Speed (In Knots)  year  month  day  \n",
       "0                   7.400000  1996     11    1  \n",
       "1                   5.168269  1996     11    1  \n",
       "2                   5.168269  1996     11    1  \n",
       "3                   5.168269  1996     11    1  \n",
       "4                   0.000000  1996     11    1  \n",
       "...                      ...   ...    ...  ...  \n",
       "92931               5.600000  2015     12   31  \n",
       "92932               3.700000  2015     12   31  \n",
       "92933               0.000000  2015     12   31  \n",
       "92934               0.000000  2015     12   31  \n",
       "92935               0.000000  2015     12   31  \n",
       "\n",
       "[92936 rows x 10 columns]"
      ]
     },
     "execution_count": 10,
     "metadata": {},
     "output_type": "execute_result"
    }
   ],
   "source": [
    "X2"
   ]
  },
  {
   "cell_type": "code",
   "execution_count": 11,
   "id": "9eb8cf1c",
   "metadata": {},
   "outputs": [],
   "source": [
    "Y=df['Avg. rainfall']"
   ]
  },
  {
   "cell_type": "code",
   "execution_count": 12,
   "id": "4449de31",
   "metadata": {},
   "outputs": [
    {
     "data": {
      "text/plain": [
       "0        0.0\n",
       "1        0.0\n",
       "2        0.0\n",
       "3        0.0\n",
       "4        0.0\n",
       "        ... \n",
       "92931    0.2\n",
       "92932    0.2\n",
       "92933    0.2\n",
       "92934    0.2\n",
       "92935    0.2\n",
       "Name: Avg. rainfall, Length: 92936, dtype: float64"
      ]
     },
     "execution_count": 12,
     "metadata": {},
     "output_type": "execute_result"
    }
   ],
   "source": [
    "Y"
   ]
  },
  {
   "cell_type": "code",
   "execution_count": 13,
   "id": "0baf87ba",
   "metadata": {},
   "outputs": [],
   "source": [
    "#X_train, X_test, Y_train, Y_test = train_test_split(X, Y, test_size=0.3, random_state=0)"
   ]
  },
  {
   "cell_type": "code",
   "execution_count": 14,
   "id": "81a3b6d5",
   "metadata": {},
   "outputs": [],
   "source": [
    "X_train, X_test, Y_train, Y_test = train_test_split(X2, Y, test_size=0.3, random_state=0)"
   ]
  },
  {
   "cell_type": "code",
   "execution_count": 15,
   "id": "d6507ebf",
   "metadata": {},
   "outputs": [],
   "source": [
    "from sklearn.linear_model import LinearRegression"
   ]
  },
  {
   "cell_type": "code",
   "execution_count": 16,
   "id": "3ce5099d",
   "metadata": {},
   "outputs": [],
   "source": [
    "lr=LinearRegression()"
   ]
  },
  {
   "cell_type": "code",
   "execution_count": 17,
   "id": "509a361c",
   "metadata": {},
   "outputs": [
    {
     "data": {
      "text/html": [
       "<style>#sk-container-id-1 {color: black;}#sk-container-id-1 pre{padding: 0;}#sk-container-id-1 div.sk-toggleable {background-color: white;}#sk-container-id-1 label.sk-toggleable__label {cursor: pointer;display: block;width: 100%;margin-bottom: 0;padding: 0.3em;box-sizing: border-box;text-align: center;}#sk-container-id-1 label.sk-toggleable__label-arrow:before {content: \"▸\";float: left;margin-right: 0.25em;color: #696969;}#sk-container-id-1 label.sk-toggleable__label-arrow:hover:before {color: black;}#sk-container-id-1 div.sk-estimator:hover label.sk-toggleable__label-arrow:before {color: black;}#sk-container-id-1 div.sk-toggleable__content {max-height: 0;max-width: 0;overflow: hidden;text-align: left;background-color: #f0f8ff;}#sk-container-id-1 div.sk-toggleable__content pre {margin: 0.2em;color: black;border-radius: 0.25em;background-color: #f0f8ff;}#sk-container-id-1 input.sk-toggleable__control:checked~div.sk-toggleable__content {max-height: 200px;max-width: 100%;overflow: auto;}#sk-container-id-1 input.sk-toggleable__control:checked~label.sk-toggleable__label-arrow:before {content: \"▾\";}#sk-container-id-1 div.sk-estimator input.sk-toggleable__control:checked~label.sk-toggleable__label {background-color: #d4ebff;}#sk-container-id-1 div.sk-label input.sk-toggleable__control:checked~label.sk-toggleable__label {background-color: #d4ebff;}#sk-container-id-1 input.sk-hidden--visually {border: 0;clip: rect(1px 1px 1px 1px);clip: rect(1px, 1px, 1px, 1px);height: 1px;margin: -1px;overflow: hidden;padding: 0;position: absolute;width: 1px;}#sk-container-id-1 div.sk-estimator {font-family: monospace;background-color: #f0f8ff;border: 1px dotted black;border-radius: 0.25em;box-sizing: border-box;margin-bottom: 0.5em;}#sk-container-id-1 div.sk-estimator:hover {background-color: #d4ebff;}#sk-container-id-1 div.sk-parallel-item::after {content: \"\";width: 100%;border-bottom: 1px solid gray;flex-grow: 1;}#sk-container-id-1 div.sk-label:hover label.sk-toggleable__label {background-color: #d4ebff;}#sk-container-id-1 div.sk-serial::before {content: \"\";position: absolute;border-left: 1px solid gray;box-sizing: border-box;top: 0;bottom: 0;left: 50%;z-index: 0;}#sk-container-id-1 div.sk-serial {display: flex;flex-direction: column;align-items: center;background-color: white;padding-right: 0.2em;padding-left: 0.2em;position: relative;}#sk-container-id-1 div.sk-item {position: relative;z-index: 1;}#sk-container-id-1 div.sk-parallel {display: flex;align-items: stretch;justify-content: center;background-color: white;position: relative;}#sk-container-id-1 div.sk-item::before, #sk-container-id-1 div.sk-parallel-item::before {content: \"\";position: absolute;border-left: 1px solid gray;box-sizing: border-box;top: 0;bottom: 0;left: 50%;z-index: -1;}#sk-container-id-1 div.sk-parallel-item {display: flex;flex-direction: column;z-index: 1;position: relative;background-color: white;}#sk-container-id-1 div.sk-parallel-item:first-child::after {align-self: flex-end;width: 50%;}#sk-container-id-1 div.sk-parallel-item:last-child::after {align-self: flex-start;width: 50%;}#sk-container-id-1 div.sk-parallel-item:only-child::after {width: 0;}#sk-container-id-1 div.sk-dashed-wrapped {border: 1px dashed gray;margin: 0 0.4em 0.5em 0.4em;box-sizing: border-box;padding-bottom: 0.4em;background-color: white;}#sk-container-id-1 div.sk-label label {font-family: monospace;font-weight: bold;display: inline-block;line-height: 1.2em;}#sk-container-id-1 div.sk-label-container {text-align: center;}#sk-container-id-1 div.sk-container {/* jupyter's `normalize.less` sets `[hidden] { display: none; }` but bootstrap.min.css set `[hidden] { display: none !important; }` so we also need the `!important` here to be able to override the default hidden behavior on the sphinx rendered scikit-learn.org. See: https://github.com/scikit-learn/scikit-learn/issues/21755 */display: inline-block !important;position: relative;}#sk-container-id-1 div.sk-text-repr-fallback {display: none;}</style><div id=\"sk-container-id-1\" class=\"sk-top-container\"><div class=\"sk-text-repr-fallback\"><pre>LinearRegression()</pre><b>In a Jupyter environment, please rerun this cell to show the HTML representation or trust the notebook. <br />On GitHub, the HTML representation is unable to render, please try loading this page with nbviewer.org.</b></div><div class=\"sk-container\" hidden><div class=\"sk-item\"><div class=\"sk-estimator sk-toggleable\"><input class=\"sk-toggleable__control sk-hidden--visually\" id=\"sk-estimator-id-1\" type=\"checkbox\" checked><label for=\"sk-estimator-id-1\" class=\"sk-toggleable__label sk-toggleable__label-arrow\">LinearRegression</label><div class=\"sk-toggleable__content\"><pre>LinearRegression()</pre></div></div></div></div></div>"
      ],
      "text/plain": [
       "LinearRegression()"
      ]
     },
     "execution_count": 17,
     "metadata": {},
     "output_type": "execute_result"
    }
   ],
   "source": [
    "lr.fit(X_train,Y_train)"
   ]
  },
  {
   "cell_type": "code",
   "execution_count": 18,
   "id": "d47a7b7a",
   "metadata": {},
   "outputs": [],
   "source": [
    "c=lr.intercept_"
   ]
  },
  {
   "cell_type": "code",
   "execution_count": 19,
   "id": "b2327712",
   "metadata": {},
   "outputs": [
    {
     "data": {
      "text/plain": [
       "4108.012093214847"
      ]
     },
     "execution_count": 19,
     "metadata": {},
     "output_type": "execute_result"
    }
   ],
   "source": [
    "c"
   ]
  },
  {
   "cell_type": "code",
   "execution_count": 20,
   "id": "80da7099",
   "metadata": {},
   "outputs": [],
   "source": [
    "m=lr.coef_"
   ]
  },
  {
   "cell_type": "code",
   "execution_count": 21,
   "id": "fb477389",
   "metadata": {},
   "outputs": [
    {
     "data": {
      "text/plain": [
       "array([-0.29150458,  2.36053795,  0.84931707, -1.8391265 ,  1.19734049,\n",
       "        0.02947933,  0.10823788, -1.16200105, -0.16400379, -0.05685227])"
      ]
     },
     "execution_count": 21,
     "metadata": {},
     "output_type": "execute_result"
    }
   ],
   "source": [
    "m"
   ]
  },
  {
   "cell_type": "code",
   "execution_count": 22,
   "id": "3c85bb1c",
   "metadata": {},
   "outputs": [],
   "source": [
    "Y_pred_train = lr.predict(X_train)"
   ]
  },
  {
   "cell_type": "code",
   "execution_count": 23,
   "id": "06670257",
   "metadata": {},
   "outputs": [
    {
     "data": {
      "text/plain": [
       "array([  3.79693632,  37.82586081,  69.80586332, ...,  20.3438803 ,\n",
       "        14.19466016, -29.73513571])"
      ]
     },
     "execution_count": 23,
     "metadata": {},
     "output_type": "execute_result"
    }
   ],
   "source": [
    "Y_pred_train"
   ]
  },
  {
   "cell_type": "code",
   "execution_count": 24,
   "id": "a7d17fdf",
   "metadata": {},
   "outputs": [
    {
     "data": {
      "image/png": "[encoded data removed]",
      "text/plain": [
       "<Figure size 640x480 with 1 Axes>"
      ]
     },
     "metadata": {},
     "output_type": "display_data"
    }
   ],
   "source": [
    "import matplotlib.pyplot as plt\n",
    "plt.scatter(Y_train,Y_pred_train)\n",
    "plt.show()"
   ]
  },
  {
   "cell_type": "code",
   "execution_count": 25,
   "id": "3ba73e3b",
   "metadata": {},
   "outputs": [],
   "source": [
    "from sklearn.metrics import r2_score"
   ]
  },
  {
   "cell_type": "code",
   "execution_count": 28,
   "id": "b5bd62e3",
   "metadata": {},
   "outputs": [
    {
     "data": {
      "text/plain": [
       "47.46672655723224"
      ]
     },
     "execution_count": 28,
     "metadata": {},
     "output_type": "execute_result"
    }
   ],
   "source": [
    "r2_score(Y_train,Y_pred_train)*100"
   ]
  },
  {
   "cell_type": "code",
   "execution_count": 29,
   "id": "68b53414",
   "metadata": {},
   "outputs": [],
   "source": [
    "Y_pred_test = lr.predict(X_test)"
   ]
  },
  {
   "cell_type": "code",
   "execution_count": 30,
   "id": "0bc67df4-43b7-4fbb-96a4-a23f4c2caa14",
   "metadata": {},
   "outputs": [
    {
     "data": {
      "text/plain": [
       "<seaborn.axisgrid.JointGrid at 0x1fde3f074d0>"
      ]
     },
     "execution_count": 30,
     "metadata": {},
     "output_type": "execute_result"
    },
    {
     "data": {
      "image/png": "[encoded data removed]",
      "text/plain": [
       "<Figure size 600x600 with 3 Axes>"
      ]
     },
     "metadata": {},
     "output_type": "display_data"
    }
   ],
   "source": [
    "import seaborn as sns\n",
    "sns.jointplot(x = Y_test,y = Y_pred_test,kind='resid')"
   ]
  },
  {
   "cell_type": "code",
   "execution_count": null,
   "id": "8597e4da",
   "metadata": {},
   "outputs": [],
   "source": [
    "import matplotlib.pyplot as plt\n",
    "plt.scatter(Y_test,Y_pred_test)\n",
    "plt.xlabel('Y_test')\n",
    "plt.ylabel('Y_pred_test')\n",
    "plt.show()"
   ]
  },
  {
   "cell_type": "code",
   "execution_count": null,
   "id": "a3b6ae1e",
   "metadata": {},
   "outputs": [],
   "source": [
    "r2_score(Y_test,Y_pred_test) *100"
   ]
  },
  {
   "cell_type": "code",
   "execution_count": null,
   "id": "6966eda7",
   "metadata": {},
   "outputs": [],
   "source": [
    "r2_score(Y_test,Y_pred_test)"
   ]
  },
  {
   "cell_type": "code",
   "execution_count": null,
   "id": "2ccb37b3",
   "metadata": {},
   "outputs": [],
   "source": [
    "X2.corr()"
   ]
  },
  {
   "cell_type": "markdown",
   "id": "8a878e92",
   "metadata": {},
   "source": [
    "# XG-Boost"
   ]
  },
  {
   "cell_type": "code",
   "execution_count": null,
   "id": "8a112f89",
   "metadata": {},
   "outputs": [],
   "source": [
    "kd=df"
   ]
  },
  {
   "cell_type": "code",
   "execution_count": null,
   "id": "4a0a82a9",
   "metadata": {},
   "outputs": [],
   "source": [
    "kd"
   ]
  },
  {
   "cell_type": "code",
   "execution_count": null,
   "id": "961d8e0a",
   "metadata": {},
   "outputs": [],
   "source": [
    "row,col = kd.shape"
   ]
  },
  {
   "cell_type": "code",
   "execution_count": null,
   "id": "da159bc9",
   "metadata": {},
   "outputs": [],
   "source": [
    "row"
   ]
  },
  {
   "cell_type": "code",
   "execution_count": null,
   "id": "4ca9f340",
   "metadata": {},
   "outputs": [],
   "source": [
    "col"
   ]
  },
  {
   "cell_type": "code",
   "execution_count": null,
   "id": "04d00ee7",
   "metadata": {},
   "outputs": [],
   "source": [
    "from sklearn.model_selection import train_test_split\n",
    "from sklearn.model_selection import GridSearchCV\n",
    "from sklearn.metrics import roc_auc_score\n",
    "\n",
    "import matplotlib.pyplot as plt"
   ]
  },
  {
   "cell_type": "code",
   "execution_count": null,
   "id": "44c80b24",
   "metadata": {},
   "outputs": [],
   "source": [
    "import xgboost"
   ]
  },
  {
   "cell_type": "code",
   "execution_count": null,
   "id": "b8dad928",
   "metadata": {},
   "outputs": [],
   "source": [
    "X3=kd.drop(columns='Avg. rainfall')\n",
    "y3=kd['Avg. rainfall']"
   ]
  },
  {
   "cell_type": "code",
   "execution_count": null,
   "id": "2b48e036",
   "metadata": {},
   "outputs": [],
   "source": [
    "X3"
   ]
  },
  {
   "cell_type": "code",
   "execution_count": null,
   "id": "f4b4c508",
   "metadata": {},
   "outputs": [],
   "source": [
    "y3"
   ]
  },
  {
   "cell_type": "code",
   "execution_count": null,
   "id": "1fad48ee",
   "metadata": {},
   "outputs": [],
   "source": []
  },
  {
   "cell_type": "code",
   "execution_count": null,
   "id": "28e4b48e",
   "metadata": {},
   "outputs": [],
   "source": [
    "from numpy import asarray\n",
    "from numpy import mean\n",
    "from numpy import std\n",
    "from xgboost import XGBRegressor\n",
    "from sklearn.model_selection import cross_val_score\n",
    "from sklearn.model_selection import RepeatedKFold"
   ]
  },
  {
   "cell_type": "code",
   "execution_count": null,
   "id": "6ab09d26",
   "metadata": {},
   "outputs": [],
   "source": [
    "model = XGBRegressor(objective='reg:squarederror')"
   ]
  },
  {
   "cell_type": "code",
   "execution_count": null,
   "id": "f7d9cabd",
   "metadata": {},
   "outputs": [],
   "source": [
    "cv = RepeatedKFold(n_splits=10, n_repeats=3, random_state=1)"
   ]
  },
  {
   "cell_type": "code",
   "execution_count": null,
   "id": "22db861c",
   "metadata": {},
   "outputs": [],
   "source": [
    "n_scores = cross_val_score(model, X3, y3, scoring='neg_mean_absolute_error', cv=cv, n_jobs=-1, error_score='raise')"
   ]
  },
  {
   "cell_type": "code",
   "execution_count": null,
   "id": "025d49af",
   "metadata": {},
   "outputs": [],
   "source": [
    "print('MAE: %.3f (%.3f)' % (mean(n_scores), std(n_scores)))"
   ]
  },
  {
   "cell_type": "code",
   "execution_count": null,
   "id": "c57d72e5",
   "metadata": {},
   "outputs": [],
   "source": [
    "from sklearn.model_selection import train_test_split"
   ]
  },
  {
   "cell_type": "code",
   "execution_count": null,
   "id": "1137799e",
   "metadata": {},
   "outputs": [],
   "source": [
    "X_train, X_test, Y_train, Y_test = train_test_split(X3, y3, test_size=0.3, random_state=0)"
   ]
  },
  {
   "cell_type": "code",
   "execution_count": null,
   "id": "9c1f3848",
   "metadata": {},
   "outputs": [],
   "source": [
    "model.fit(X_train,Y_train)"
   ]
  },
  {
   "cell_type": "code",
   "execution_count": null,
   "id": "b2e6866a",
   "metadata": {},
   "outputs": [],
   "source": [
    "predY = model.predict(X_test)"
   ]
  },
  {
   "cell_type": "code",
   "execution_count": null,
   "id": "86ba9cc6",
   "metadata": {},
   "outputs": [],
   "source": [
    "predY"
   ]
  },
  {
   "cell_type": "code",
   "execution_count": null,
   "id": "f2ac2b5a",
   "metadata": {},
   "outputs": [],
   "source": [
    "from sklearn.metrics import r2_score"
   ]
  },
  {
   "cell_type": "code",
   "execution_count": null,
   "id": "7a588cc7",
   "metadata": {},
   "outputs": [],
   "source": [
    "r2_score(Y_test, predY)"
   ]
  },
  {
   "cell_type": "code",
   "execution_count": null,
   "id": "14d3e6fb",
   "metadata": {},
   "outputs": [],
   "source": [
    "r2_score(Y_test, predY) *100"
   ]
  },
  {
   "cell_type": "code",
   "execution_count": null,
   "id": "5c0a9f66",
   "metadata": {},
   "outputs": [],
   "source": [
    "import matplotlib.pyplot as plt\n",
    "plt.scatter(Y_test,predY)\n",
    "plt.show()"
   ]
  },
  {
   "cell_type": "markdown",
   "id": "a79b80a8",
   "metadata": {},
   "source": [
    "# Random Forest"
   ]
  },
  {
   "cell_type": "code",
   "execution_count": null,
   "id": "3101a9eb",
   "metadata": {},
   "outputs": [],
   "source": [
    "import numpy as np"
   ]
  },
  {
   "cell_type": "code",
   "execution_count": null,
   "id": "a85e08cd",
   "metadata": {},
   "outputs": [],
   "source": [
    "import matplotlib as mpl"
   ]
  },
  {
   "cell_type": "code",
   "execution_count": null,
   "id": "1067d070",
   "metadata": {},
   "outputs": [],
   "source": [
    "rf=df"
   ]
  },
  {
   "cell_type": "code",
   "execution_count": null,
   "id": "f73e8b6c",
   "metadata": {},
   "outputs": [],
   "source": [
    "rf"
   ]
  },
  {
   "cell_type": "code",
   "execution_count": null,
   "id": "56dc1c54",
   "metadata": {},
   "outputs": [],
   "source": [
    "rf.drop(columns='date',inplace=True)"
   ]
  },
  {
   "cell_type": "code",
   "execution_count": null,
   "id": "1c4c139e",
   "metadata": {},
   "outputs": [],
   "source": [
    "rf.info()"
   ]
  },
  {
   "cell_type": "code",
   "execution_count": null,
   "id": "eb0108d9",
   "metadata": {},
   "outputs": [],
   "source": [
    "row,col=rf.shape"
   ]
  },
  {
   "cell_type": "code",
   "execution_count": null,
   "id": "28494047",
   "metadata": {},
   "outputs": [],
   "source": [
    "for col in rf.dtypes[rf.dtypes == 'object'].index:\n",
    "    for_dummy=rf.pop(col)\n",
    "    rf=pd.concat([rf,pd.get_dummies(for_dummy,prefix=col)],axis=1)"
   ]
  },
  {
   "cell_type": "code",
   "execution_count": null,
   "id": "92df3dac",
   "metadata": {},
   "outputs": [],
   "source": [
    "rf"
   ]
  },
  {
   "cell_type": "code",
   "execution_count": null,
   "id": "9b2df34a",
   "metadata": {},
   "outputs": [],
   "source": [
    "rf"
   ]
  },
  {
   "cell_type": "code",
   "execution_count": null,
   "id": "703318a1",
   "metadata": {},
   "outputs": [],
   "source": [
    "rf.columns"
   ]
  },
  {
   "cell_type": "code",
   "execution_count": null,
   "id": "308b4c92",
   "metadata": {},
   "outputs": [],
   "source": [
    "rf.shape"
   ]
  },
  {
   "cell_type": "code",
   "execution_count": null,
   "id": "9b0b1b29",
   "metadata": {},
   "outputs": [],
   "source": [
    "labels=rf.pop('Avg. rainfall')"
   ]
  },
  {
   "cell_type": "code",
   "execution_count": null,
   "id": "c13565b1",
   "metadata": {},
   "outputs": [],
   "source": [
    "x4_train,x4_test,y4_train,y4_test = train_test_split(rf,labels,test_size=.25)"
   ]
  },
  {
   "cell_type": "code",
   "execution_count": null,
   "id": "d72b660c",
   "metadata": {},
   "outputs": [],
   "source": [
    "from sklearn.ensemble import RandomForestRegressor\n",
    "rfc=RandomForestRegressor()\n",
    "rfc.fit(x4_train,y4_train)"
   ]
  },
  {
   "cell_type": "code",
   "execution_count": null,
   "id": "5b267430",
   "metadata": {},
   "outputs": [],
   "source": [
    "y4_pred=rfc.predict(x4_test)"
   ]
  },
  {
   "cell_type": "code",
   "execution_count": null,
   "id": "6e22c254",
   "metadata": {},
   "outputs": [],
   "source": [
    "from sklearn.metrics import roc_curve,auc\n",
    "false_positive_rate,true_positive_rate,thresholds=roc_curve(y4_test,y4_pred)\n",
    "roc_auc=auc(false_positive_rate,true_positive_rate)\n",
    "roc_auc"
   ]
  },
  {
   "cell_type": "code",
   "execution_count": null,
   "id": "b2fb9d78",
   "metadata": {},
   "outputs": [],
   "source": [
    "#insert 0/1 in avg. rainfall"
   ]
  },
  {
   "cell_type": "code",
   "execution_count": null,
   "id": "ccbc59e1",
   "metadata": {},
   "outputs": [],
   "source": []
  },
  {
   "cell_type": "markdown",
   "id": "0e37edeb",
   "metadata": {},
   "source": [
    "# LGBM"
   ]
  },
  {
   "cell_type": "code",
   "execution_count": null,
   "id": "b1be9108",
   "metadata": {},
   "outputs": [],
   "source": [
    "lg=df"
   ]
  },
  {
   "cell_type": "code",
   "execution_count": null,
   "id": "5924cf66",
   "metadata": {},
   "outputs": [],
   "source": [
    "lg.info()"
   ]
  },
  {
   "cell_type": "code",
   "execution_count": null,
   "id": "1bdb0b18",
   "metadata": {},
   "outputs": [],
   "source": [
    "import lightgbm as lgbm"
   ]
  },
  {
   "cell_type": "code",
   "execution_count": null,
   "id": "1b8c61d7",
   "metadata": {},
   "outputs": [],
   "source": [
    "lg"
   ]
  },
  {
   "cell_type": "code",
   "execution_count": null,
   "id": "76717b1a",
   "metadata": {},
   "outputs": [],
   "source": [
    "var_columns = [c for c in lg.columns if c not in ['Avg. rainfall']]\n",
    "\n",
    "x=lg.loc[:,var_columns]\n",
    "y=lg.loc[:,'Avg. rainfall']\n",
    "\n",
    "x_train,x_valid,y_train,y_valid=train_test_split(x,y,test_size=.2,random_state=42)"
   ]
  },
  {
   "cell_type": "code",
   "execution_count": null,
   "id": "e6664100",
   "metadata": {},
   "outputs": [],
   "source": [
    "x_train.shape,x_valid.shape,y_train.shape,y_valid.shape"
   ]
  },
  {
   "cell_type": "code",
   "execution_count": null,
   "id": "a8b5ea7f",
   "metadata": {},
   "outputs": [],
   "source": [
    "train_data=lgbm.Dataset(x_train,label=y_train)"
   ]
  },
  {
   "cell_type": "code",
   "execution_count": null,
   "id": "8a54b947",
   "metadata": {},
   "outputs": [],
   "source": [
    "valid_data=lgbm.Dataset(x_valid,label=y_valid)"
   ]
  },
  {
   "cell_type": "code",
   "execution_count": null,
   "id": "ab9ef654",
   "metadata": {},
   "outputs": [],
   "source": [
    "parameters = {'objective': 'binary',\n",
    "              'metric': 'auc',\n",
    "              'is_unbalance': 'true',\n",
    "              'boosting': 'gbdt',\n",
    "              'num_leaves': 63,\n",
    "              'feature_fraction': 0.5,\n",
    "              'bagging_fraction': 0.5,\n",
    "              'bagging_freq': 20,\n",
    "              'learning_rate': 0.01,\n",
    "              'verbose': -1\n",
    "             }"
   ]
  },
  {
   "cell_type": "code",
   "execution_count": null,
   "id": "6cce10e8",
   "metadata": {},
   "outputs": [],
   "source": [
    "model_lgbm = lgbm.train(parameters,\n",
    "                            train_data,\n",
    "                            valid_sets=valid_data,\n",
    "                            num_boost_round=5000,\n",
    "                            early_stopping_rounds=50)"
   ]
  },
  {
   "cell_type": "code",
   "execution_count": null,
   "id": "915dff8c",
   "metadata": {},
   "outputs": [],
   "source": [
    "y_train_pred = model_lgbm.predict(x_train)\n",
    "y_valid_pred = model_lgbm.predict(x_valid)\n",
    "\n",
    "print(\"AUC Train: {:.4f}\\nAUC Valid: {:.4f}\".format(roc_auc_score(y_train, y_train_pred),\n",
    "                                                    roc_auc_score(y_valid, y_valid_pred)))"
   ]
  },
  {
   "cell_type": "code",
   "execution_count": null,
   "id": "fa1e9d6c",
   "metadata": {},
   "outputs": [],
   "source": []
  }
 ],
 "metadata": {
  "kernelspec": {
   "display_name": "Python 3 (ipykernel)",
   "language": "python",
   "name": "python3"
  },
  "language_info": {
   "codemirror_mode": {
    "name": "ipython",
    "version": 3
   },
   "file_extension": ".py",
   "mimetype": "text/x-python",
   "name": "python",
   "nbconvert_exporter": "python",
   "pygments_lexer": "ipython3",
   "version": "3.11.4"
  }
 },
 "nbformat": 4,
 "nbformat_minor": 5
}
